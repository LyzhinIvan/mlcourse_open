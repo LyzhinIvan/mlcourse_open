{
 "cells": [
  {
   "cell_type": "markdown",
   "metadata": {},
   "source": [
    "<center>\n",
    "<img src=\"../../img/ods_stickers.jpg\">\n",
    "## Открытый курс по машинному обучению. Сессия № 3\n",
    "Авторы материала: Илья Барышников (@lucidyan), Максим Уваров (@maxis42). Материал распространяется на условиях лицензии [Creative Commons CC BY-NC-SA 4.0](https://creativecommons.org/licenses/by-nc-sa/4.0/). Можно использовать в любых целях (редактировать, поправлять и брать за основу), кроме коммерческих, но с обязательным упоминанием автора материала."
   ]
  },
  {
   "cell_type": "markdown",
   "metadata": {},
   "source": [
    "# <center> Домашнее задание №2\n",
    "## <center> Визуальный анализ данных о сердечно-сосудистых заболеваниях"
   ]
  },
  {
   "cell_type": "markdown",
   "metadata": {},
   "source": [
    "**В задании предлагается с помощью визуального анализа ответить на несколько вопросов по данным о сердечно-сосудистых заболеваниях. Данные использовались в соревновании [ML Boot Camp 5](http://mlbootcamp.ru/round/12/sandbox/) (качать их не надо, они уже есть в репозитории).**\n",
    "\n",
    "**Заполните код в клетках (где написано \"Ваш код здесь\") и ответьте на вопросы в [веб-форме](https://docs.google.com/forms/d/1WBYEAYlgOhqAJyh_e3udmBWpBbkpyFSrFCMlWAoRFTY/edit). Код отправлять никуда не нужно.**"
   ]
  },
  {
   "cell_type": "markdown",
   "metadata": {},
   "source": [
    "В соревновании предлагалось определить наличие/отсутствие сердечно-сосудистых заболеваний (ССЗ) по результатам осмотра пациента.\n",
    "\n",
    "**Описание данных.**\n",
    "\n",
    "Датасет сформирован из реальных клинических анализов, и в нём используются признаки, которые можно разбить на 3 группы:\n",
    "\n",
    "Объективные признаки:\n",
    "\n",
    " - Возраст (age)\n",
    " - Рост (height)\n",
    " - Вес (weight)\n",
    " - Пол (gender)\n",
    " \n",
    "\n",
    "Результаты измерения:\n",
    "\n",
    " - Артериальное давление верхнее и нижнее (ap_hi, ap_lo)\n",
    " - Холестерин (cholesterol)\n",
    " - Глюкоза (gluc)\n",
    " \n",
    "\n",
    "Субъективные признаки (со слов пациентов):\n",
    "\n",
    " - Курение (smoke)\n",
    " - Употребление алкоголя (alco)\n",
    " - Физическая активность (active)\n",
    " \n",
    "Целевой признак (который интересно будет прогнозировать):\n",
    " - Наличие сердечно-сосудистых заболеваний по результатам классического врачебного осмотра (cardio)\n",
    "\n",
    "Возраст дан в днях. Значения показателей холестерина и глюкозы представлены одним из трех классов: норма, выше нормы, значительно выше нормы. Значения субъективных признаков — бинарны.\n",
    "\n",
    "Все показатели даны на момент осмотра."
   ]
  },
  {
   "cell_type": "code",
   "execution_count": 2,
   "metadata": {},
   "outputs": [],
   "source": [
    "# подгружаем все нужные пакеты\n",
    "import pandas as pd\n",
    "import numpy as np\n",
    "\n",
    "# игнорируем warnings\n",
    "import warnings\n",
    "warnings.filterwarnings(\"ignore\")\n",
    "\n",
    "import seaborn as sns\n",
    "\n",
    "import matplotlib\n",
    "import matplotlib.pyplot as plt\n",
    "import matplotlib.ticker\n",
    "%matplotlib inline\n",
    "\n",
    "# настройка внешнего вида графиков в seaborn\n",
    "sns.set_context(\n",
    "    \"notebook\", \n",
    "    font_scale = 1.5,       \n",
    "    rc = { \n",
    "        \"figure.figsize\" : (12, 9), \n",
    "        \"axes.titlesize\" : 18 \n",
    "    }\n",
    ")\n",
    "\n",
    "sns.set()"
   ]
  },
  {
   "cell_type": "markdown",
   "metadata": {},
   "source": [
    "---"
   ]
  },
  {
   "cell_type": "markdown",
   "metadata": {},
   "source": [
    "В рамках задания для простоты будем работать только с обучающей выборкой. Чистить данные от выбросов и ошибок в данных НЕ нужно, кроме тех случаев, где об этом явно указано.\n",
    "<br>\n",
    "<br>\n",
    "Все визуализации рекомендуем производить с помощью библиотеки `Seaborn`."
   ]
  },
  {
   "cell_type": "markdown",
   "metadata": {},
   "source": [
    "# Проведем небольшой EDA"
   ]
  },
  {
   "cell_type": "code",
   "execution_count": 3,
   "metadata": {},
   "outputs": [],
   "source": [
    "train = pd.read_csv('../../data/mlbootcamp5_train.csv', sep=';',\n",
    "                    index_col='id')"
   ]
  },
  {
   "cell_type": "code",
   "execution_count": 4,
   "metadata": {},
   "outputs": [
    {
     "name": "stdout",
     "output_type": "stream",
     "text": [
      "Размер датасета:  (70000, 12)\n"
     ]
    },
    {
     "data": {
      "text/html": [
       "<div>\n",
       "<style scoped>\n",
       "    .dataframe tbody tr th:only-of-type {\n",
       "        vertical-align: middle;\n",
       "    }\n",
       "\n",
       "    .dataframe tbody tr th {\n",
       "        vertical-align: top;\n",
       "    }\n",
       "\n",
       "    .dataframe thead th {\n",
       "        text-align: right;\n",
       "    }\n",
       "</style>\n",
       "<table border=\"1\" class=\"dataframe\">\n",
       "  <thead>\n",
       "    <tr style=\"text-align: right;\">\n",
       "      <th></th>\n",
       "      <th>age</th>\n",
       "      <th>gender</th>\n",
       "      <th>height</th>\n",
       "      <th>weight</th>\n",
       "      <th>ap_hi</th>\n",
       "      <th>ap_lo</th>\n",
       "      <th>cholesterol</th>\n",
       "      <th>gluc</th>\n",
       "      <th>smoke</th>\n",
       "      <th>alco</th>\n",
       "      <th>active</th>\n",
       "      <th>cardio</th>\n",
       "    </tr>\n",
       "    <tr>\n",
       "      <th>id</th>\n",
       "      <th></th>\n",
       "      <th></th>\n",
       "      <th></th>\n",
       "      <th></th>\n",
       "      <th></th>\n",
       "      <th></th>\n",
       "      <th></th>\n",
       "      <th></th>\n",
       "      <th></th>\n",
       "      <th></th>\n",
       "      <th></th>\n",
       "      <th></th>\n",
       "    </tr>\n",
       "  </thead>\n",
       "  <tbody>\n",
       "    <tr>\n",
       "      <th>0</th>\n",
       "      <td>18393</td>\n",
       "      <td>2</td>\n",
       "      <td>168</td>\n",
       "      <td>62.0</td>\n",
       "      <td>110</td>\n",
       "      <td>80</td>\n",
       "      <td>1</td>\n",
       "      <td>1</td>\n",
       "      <td>0</td>\n",
       "      <td>0</td>\n",
       "      <td>1</td>\n",
       "      <td>0</td>\n",
       "    </tr>\n",
       "    <tr>\n",
       "      <th>1</th>\n",
       "      <td>20228</td>\n",
       "      <td>1</td>\n",
       "      <td>156</td>\n",
       "      <td>85.0</td>\n",
       "      <td>140</td>\n",
       "      <td>90</td>\n",
       "      <td>3</td>\n",
       "      <td>1</td>\n",
       "      <td>0</td>\n",
       "      <td>0</td>\n",
       "      <td>1</td>\n",
       "      <td>1</td>\n",
       "    </tr>\n",
       "    <tr>\n",
       "      <th>2</th>\n",
       "      <td>18857</td>\n",
       "      <td>1</td>\n",
       "      <td>165</td>\n",
       "      <td>64.0</td>\n",
       "      <td>130</td>\n",
       "      <td>70</td>\n",
       "      <td>3</td>\n",
       "      <td>1</td>\n",
       "      <td>0</td>\n",
       "      <td>0</td>\n",
       "      <td>0</td>\n",
       "      <td>1</td>\n",
       "    </tr>\n",
       "    <tr>\n",
       "      <th>3</th>\n",
       "      <td>17623</td>\n",
       "      <td>2</td>\n",
       "      <td>169</td>\n",
       "      <td>82.0</td>\n",
       "      <td>150</td>\n",
       "      <td>100</td>\n",
       "      <td>1</td>\n",
       "      <td>1</td>\n",
       "      <td>0</td>\n",
       "      <td>0</td>\n",
       "      <td>1</td>\n",
       "      <td>1</td>\n",
       "    </tr>\n",
       "    <tr>\n",
       "      <th>4</th>\n",
       "      <td>17474</td>\n",
       "      <td>1</td>\n",
       "      <td>156</td>\n",
       "      <td>56.0</td>\n",
       "      <td>100</td>\n",
       "      <td>60</td>\n",
       "      <td>1</td>\n",
       "      <td>1</td>\n",
       "      <td>0</td>\n",
       "      <td>0</td>\n",
       "      <td>0</td>\n",
       "      <td>0</td>\n",
       "    </tr>\n",
       "  </tbody>\n",
       "</table>\n",
       "</div>"
      ],
      "text/plain": [
       "      age  gender  height  weight  ap_hi  ap_lo  cholesterol  gluc  smoke  \\\n",
       "id                                                                          \n",
       "0   18393       2     168    62.0    110     80            1     1      0   \n",
       "1   20228       1     156    85.0    140     90            3     1      0   \n",
       "2   18857       1     165    64.0    130     70            3     1      0   \n",
       "3   17623       2     169    82.0    150    100            1     1      0   \n",
       "4   17474       1     156    56.0    100     60            1     1      0   \n",
       "\n",
       "    alco  active  cardio  \n",
       "id                        \n",
       "0      0       1       0  \n",
       "1      0       1       1  \n",
       "2      0       0       1  \n",
       "3      0       1       1  \n",
       "4      0       0       0  "
      ]
     },
     "execution_count": 4,
     "metadata": {},
     "output_type": "execute_result"
    }
   ],
   "source": [
    "print('Размер датасета: ', train.shape)\n",
    "train.head()"
   ]
  },
  {
   "cell_type": "markdown",
   "metadata": {},
   "source": [
    "Для начала всегда неплохо бы посмотреть на значения, которые принимают переменные."
   ]
  },
  {
   "cell_type": "markdown",
   "metadata": {},
   "source": [
    "Переведем данные в \"Long Format\"-представление и отрисуем с помощью [factorplot](https://seaborn.pydata.org/generated/seaborn.factorplot.html) количество значений, которые принимают категориальные переменные."
   ]
  },
  {
   "cell_type": "code",
   "execution_count": 5,
   "metadata": {},
   "outputs": [
    {
     "data": {
      "image/png": "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\n",
      "text/plain": [
       "<matplotlib.figure.Figure at 0x7feb99056278>"
      ]
     },
     "metadata": {},
     "output_type": "display_data"
    }
   ],
   "source": [
    "train_uniques = pd.melt(frame=train, value_vars=['gender','cholesterol', \n",
    "                                                 'gluc', 'smoke', 'alco', \n",
    "                                                 'active', 'cardio'])\n",
    "train_uniques = pd.DataFrame(train_uniques.groupby(['variable', \n",
    "                                                    'value'])['value'].count()) \\\n",
    "    .sort_index(level=[0, 1]) \\\n",
    "    .rename(columns={'value': 'count'}) \\\n",
    "    .reset_index()\n",
    "    \n",
    "sns.factorplot(x='variable', y='count', hue='value', \n",
    "               data=train_uniques, kind='bar', size=12);"
   ]
  },
  {
   "cell_type": "markdown",
   "metadata": {},
   "source": [
    "Видим, что классы целевой переменной `cardio` сбалансированы, отлично!"
   ]
  },
  {
   "cell_type": "markdown",
   "metadata": {},
   "source": [
    "Можно также разбить элементы обучающей выборки по значениям целевой переменной: иногда на таких графиках можно сразу увидеть самый значимый признак."
   ]
  },
  {
   "cell_type": "code",
   "execution_count": 6,
   "metadata": {},
   "outputs": [
    {
     "data": {
      "image/png": "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\n",
      "text/plain": [
       "<matplotlib.figure.Figure at 0x7feb9967e9e8>"
      ]
     },
     "metadata": {},
     "output_type": "display_data"
    }
   ],
   "source": [
    "train_uniques = pd.melt(frame=train, value_vars=['gender','cholesterol', \n",
    "                                                 'gluc', 'smoke', 'alco', \n",
    "                                                 'active'], \n",
    "                        id_vars=['cardio'])\n",
    "train_uniques = pd.DataFrame(train_uniques.groupby(['variable', 'value', \n",
    "                                                    'cardio'])['value'].count()) \\\n",
    "    .sort_index(level=[0, 1]) \\\n",
    "    .rename(columns={'value': 'count'}) \\\n",
    "    .reset_index()\n",
    "    \n",
    "sns.factorplot(x='variable', y='count', hue='value', \n",
    "               col='cardio', data=train_uniques, kind='bar', size=9);"
   ]
  },
  {
   "cell_type": "markdown",
   "metadata": {},
   "source": [
    "Видим, что в зависимости от целевой переменной сильно меняется распределение холестерина и глюкозы. Совпадение?"
   ]
  },
  {
   "cell_type": "markdown",
   "metadata": {},
   "source": [
    "**Немного статистики по уникальным значениям признаков.**"
   ]
  },
  {
   "cell_type": "code",
   "execution_count": 7,
   "metadata": {},
   "outputs": [
    {
     "name": "stdout",
     "output_type": "stream",
     "text": [
      "age\n",
      "8076\n",
      "----------\n",
      "gender\n",
      "2 [(1, 45530), (2, 24470)]\n",
      "----------\n",
      "height\n",
      "109\n",
      "----------\n",
      "weight\n",
      "287\n",
      "----------\n",
      "ap_hi\n",
      "153\n",
      "----------\n",
      "ap_lo\n",
      "157\n",
      "----------\n",
      "cholesterol\n",
      "3 [(1, 52385), (2, 9549), (3, 8066)]\n",
      "----------\n",
      "gluc\n",
      "3 [(1, 59479), (2, 5190), (3, 5331)]\n",
      "----------\n",
      "smoke\n",
      "2 [(0, 63831), (1, 6169)]\n",
      "----------\n",
      "alco\n",
      "2 [(0, 66236), (1, 3764)]\n",
      "----------\n",
      "active\n",
      "2 [(0, 13739), (1, 56261)]\n",
      "----------\n",
      "cardio\n",
      "2 [(0, 35021), (1, 34979)]\n",
      "----------\n"
     ]
    }
   ],
   "source": [
    "for c in train.columns:\n",
    "    n = train[c].nunique()\n",
    "    print(c)\n",
    "    \n",
    "    if n <= 3:\n",
    "        print(n, sorted(train[c].value_counts().to_dict().items()))\n",
    "    else:\n",
    "        print(n)\n",
    "    print(10 * '-')"
   ]
  },
  {
   "cell_type": "markdown",
   "metadata": {},
   "source": [
    "*Итого:*\n",
    "- Пять количественных признаков (без id)\n",
    "- Семь категориальных\n",
    "- 70000 объектов"
   ]
  },
  {
   "cell_type": "markdown",
   "metadata": {},
   "source": [
    "---"
   ]
  },
  {
   "cell_type": "markdown",
   "metadata": {},
   "source": [
    "# 1. Визуализируем корреляционную матрицу\n",
    "\n",
    "Для того чтобы лучше понять признаки в датасете, можно посчитать матрицу коэффициентов корреляции между признаками. <br>\n",
    "\n",
    "Постройте [heatmap](http://seaborn.pydata.org/generated/seaborn.heatmap.html) корреляционной матрицы. Матрица формируется средствами `Pandas`, со стандартным значением параметров."
   ]
  },
  {
   "cell_type": "markdown",
   "metadata": {},
   "source": [
    "###  1. Какие два признака больше всего коррелируют (по Пирсону) с признаком `height` ?\n",
    "\n",
    "- Gluc, Cholesterol\n",
    "- Weight, Alco\n",
    "- Smoke, Alco\n",
    "- <b>Weight, Gender</b>"
   ]
  },
  {
   "cell_type": "code",
   "execution_count": 22,
   "metadata": {},
   "outputs": [
    {
     "name": "stdout",
     "output_type": "stream",
     "text": [
      "weight    0.290968\n",
      "gender    0.499033\n",
      "Name: height, dtype: float64\n"
     ]
    },
    {
     "data": {
      "image/png": "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\n",
      "text/plain": [
       "<matplotlib.figure.Figure at 0x7feb96def630>"
      ]
     },
     "metadata": {},
     "output_type": "display_data"
    }
   ],
   "source": [
    "# Ваш код здесь\n",
    "print(train.corr()['height'].sort_values()[-3:-1])\n",
    "sns.heatmap(train.corr());"
   ]
  },
  {
   "cell_type": "markdown",
   "metadata": {},
   "source": [
    "---"
   ]
  },
  {
   "cell_type": "markdown",
   "metadata": {},
   "source": [
    "# 2. Распределение роста для мужчин и женщин\n",
    "\n",
    "Как мы увидели, в процессе исследования уникальных значений пол кодируется значениями 1 и 2, расшифровка изначально не была нам дана в описании данных, но мы догадались, кто есть кто, посчитав средние значения роста (или веса) при разных значениях признака `gender`. Теперь сделаем то же самое, но графически. "
   ]
  },
  {
   "cell_type": "markdown",
   "metadata": {},
   "source": [
    "Постройте [violinplot](https://seaborn.pydata.org/generated/seaborn.violinplot.html) для роста и пола. Используйте:\n",
    "- hue – для разбивки по полу\n",
    "- scale – для оценки количества каждого из полов \n",
    "\n",
    "Для корректной отрисовки, преобразуйте DataFrame в \"Long Format\"-представление с помощью функции melt в pandas.\n",
    "<br>\n",
    "[еще один пример](https://stackoverflow.com/a/41575149/3338479)"
   ]
  },
  {
   "cell_type": "code",
   "execution_count": 26,
   "metadata": {},
   "outputs": [
    {
     "data": {
      "text/plain": [
       "<matplotlib.axes._subplots.AxesSubplot at 0x7feb96ed37f0>"
      ]
     },
     "execution_count": 26,
     "metadata": {},
     "output_type": "execute_result"
    },
    {
     "data": {
      "image/png": "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\n",
      "text/plain": [
       "<matplotlib.figure.Figure at 0x7febcd6ab6a0>"
      ]
     },
     "metadata": {},
     "output_type": "display_data"
    }
   ],
   "source": [
    "# Ваш код здесь\n",
    "df = pd.melt(train, value_vars=['height'], id_vars='gender')\n",
    "sns.violinplot(x='variable', y='value', hue='gender', data=df, scale='count')"
   ]
  },
  {
   "cell_type": "markdown",
   "metadata": {},
   "source": [
    "Постройте на одном графике два отдельных [kdeplot](https://seaborn.pydata.org/generated/seaborn.kdeplot.html) роста, отдельно для мужчин и женщин. На нем разница будет более наглядной, но нельзя будет оценить количество мужчин/женщин."
   ]
  },
  {
   "cell_type": "code",
   "execution_count": 47,
   "metadata": {},
   "outputs": [
    {
     "data": {
      "image/png": "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\n",
      "text/plain": [
       "<matplotlib.figure.Figure at 0x7feb94fedf60>"
      ]
     },
     "metadata": {},
     "output_type": "display_data"
    }
   ],
   "source": [
    "# Ваш код здесь\n",
    "sns.kdeplot(df[df['gender']==1]['value'], label='female')\n",
    "sns.kdeplot(df[df['gender']==2]['value'], label='male');"
   ]
  },
  {
   "cell_type": "markdown",
   "metadata": {},
   "source": [
    "---"
   ]
  },
  {
   "cell_type": "markdown",
   "metadata": {},
   "source": [
    "# 3. Ранговая корреляция"
   ]
  },
  {
   "cell_type": "markdown",
   "metadata": {},
   "source": [
    "В большинстве случаев достаточно воспользоваться линейным коэффициентом корреляции *Пирсона* для выявления закономерностей в данных, но мы пойдём чуть дальше и используем ранговую корреляцию, которая поможет нам выявить пары, в которых меньший ранг из вариационного ряда одного признака всегда предшествует большему другого (или наоборот, в случае отрицательной корреляции)."
   ]
  },
  {
   "cell_type": "markdown",
   "metadata": {},
   "source": [
    "##### Постройте корреляционную матрицу, используя коэффициент Спирмена"
   ]
  },
  {
   "cell_type": "markdown",
   "metadata": {},
   "source": [
    "### 3.1 Какие признаки теперь больше всего коррелируют (по Спирмену) друг с другом?\n",
    "\n",
    "- Height, Weight\n",
    "- Age, Weight\n",
    "- <b>Ap_hi, Ap_lo</b>\n",
    "- Cholesterol, Gluc\n",
    "- Cardio, Cholesterol\n",
    "- Smoke, Alco"
   ]
  },
  {
   "cell_type": "code",
   "execution_count": 40,
   "metadata": {},
   "outputs": [
    {
     "data": {
      "image/png": "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\n",
      "text/plain": [
       "<matplotlib.figure.Figure at 0x7feb955840b8>"
      ]
     },
     "metadata": {},
     "output_type": "display_data"
    }
   ],
   "source": [
    "# Ваш код здесь\n",
    "sns.heatmap(train.corr(method='spearman'));"
   ]
  },
  {
   "cell_type": "markdown",
   "metadata": {},
   "source": [
    "### 3.2 Почему мы получили такое большое (относительно) значение ранговой корреляции у этих признаков?\n",
    "\n",
    "- Неточности в данных (ошибки при сборе данных)\n",
    "- Связь ошибочна, переменные никак не должны быть связаны друг с другом\n",
    "- <b>Природа данных</b>"
   ]
  },
  {
   "cell_type": "markdown",
   "metadata": {},
   "source": [
    "---"
   ]
  },
  {
   "cell_type": "markdown",
   "metadata": {},
   "source": [
    "# 4. Совместное распределение признаков"
   ]
  },
  {
   "cell_type": "markdown",
   "metadata": {},
   "source": [
    "Постройте совместный график распределения [jointplot](http://seaborn.pydata.org/generated/seaborn.jointplot.html) двух наиболее коррелирующих между собой признаков (по Спирмену)."
   ]
  },
  {
   "cell_type": "markdown",
   "metadata": {},
   "source": [
    "Кажется, наш график получился неинформативным из-за выбросов в значениях. Постройте тот же график, но с логарифмической шкалой (чтобы не получать OverflowError необходимо отфильтровать значения меньше либо равные нулю)."
   ]
  },
  {
   "cell_type": "code",
   "execution_count": 56,
   "metadata": {},
   "outputs": [],
   "source": [
    "df = train[(train['ap_hi'] > 0) & (train['ap_lo'] > 0)]"
   ]
  },
  {
   "cell_type": "code",
   "execution_count": 68,
   "metadata": {},
   "outputs": [
    {
     "data": {
      "text/plain": [
       "'Преобразуем логарифмические значения на шкалах в реальные'"
      ]
     },
     "execution_count": 68,
     "metadata": {},
     "output_type": "execute_result"
    },
    {
     "data": {
      "image/png": "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\n",
      "text/plain": [
       "<matplotlib.figure.Figure at 0x7feb9504ea90>"
      ]
     },
     "metadata": {},
     "output_type": "display_data"
    }
   ],
   "source": [
    "# Ваш код здесь\n",
    "\n",
    "g = sns.jointplot(x='ap_lo', y='ap_hi', data=df)\n",
    "\n",
    "# -------------------- #\n",
    "\n",
    "\"\"\"Сетка\"\"\"\n",
    "g.ax_joint.grid(True) \n",
    "g.ax_joint.set_xscale('log')\n",
    "g.ax_joint.set_yscale('log')\n",
    "\n",
    "\"\"\"Преобразуем логарифмические значения на шкалах в реальные\"\"\"\n",
    "#g.ax_joint.yaxis.set_major_formatter(matplotlib.ticker.FuncFormatter(lambda x, pos: str(round(int(np.exp(x))))))\n",
    "#g.ax_joint.xaxis.set_major_formatter(matplotlib.ticker.FuncFormatter(lambda x, pos: str(round(int(np.exp(x))))))"
   ]
  },
  {
   "cell_type": "markdown",
   "metadata": {},
   "source": [
    "### 4.1 Сколько чётко выраженных кластеров получилось на  совместном графике выбранных признаков, с логарифмической шкалой? Под кластером в данной задаче понимается плотное скопление точек, в окрестности которого пренебрежительно мало одиночных наблюдений и которое визуально отделимо от других кластеров.\n",
    "\n",
    "- 1\n",
    "- 2\n",
    "- 3\n",
    "- больше трёх"
   ]
  },
  {
   "cell_type": "code",
   "execution_count": null,
   "metadata": {
    "collapsed": true
   },
   "outputs": [],
   "source": [
    "# Ваш код здесь"
   ]
  },
  {
   "cell_type": "markdown",
   "metadata": {},
   "source": [
    "---"
   ]
  },
  {
   "cell_type": "markdown",
   "metadata": {},
   "source": [
    "# 5. Возраст"
   ]
  },
  {
   "cell_type": "markdown",
   "metadata": {},
   "source": [
    "Посчитаем, сколько полных лет было респондентам на момент их занесения в базу."
   ]
  },
  {
   "cell_type": "code",
   "execution_count": 69,
   "metadata": {},
   "outputs": [],
   "source": [
    "train['age_years'] = (train['age'] // 365.25).astype(int)"
   ]
  },
  {
   "cell_type": "markdown",
   "metadata": {},
   "source": [
    "Постройте [Countplot](http://seaborn.pydata.org/generated/seaborn.countplot.html), где на оси абсцисс будет отмечен возраст, на оси ординат – количество. Каждое значение возраста должно иметь два столбца, соответствующих количеству человек каждого класса **cardio** (здоров/болен) данного возраста."
   ]
  },
  {
   "cell_type": "markdown",
   "metadata": {},
   "source": [
    "### 5. В каком возрасте количество пациентов с ССЗ  впервые становится больше, чем здоровых?\n",
    "- 44\n",
    "- 49\n",
    "- 53\n",
    "- 62"
   ]
  },
  {
   "cell_type": "code",
   "execution_count": null,
   "metadata": {
    "collapsed": true
   },
   "outputs": [],
   "source": [
    "# Ваш код здесь"
   ]
  }
 ],
 "metadata": {
  "kernelspec": {
   "display_name": "Python 3",
   "language": "python",
   "name": "python3"
  },
  "language_info": {
   "codemirror_mode": {
    "name": "ipython",
    "version": 3
   },
   "file_extension": ".py",
   "mimetype": "text/x-python",
   "name": "python",
   "nbconvert_exporter": "python",
   "pygments_lexer": "ipython3",
<<<<<<< HEAD
   "version": "3.5.2"
=======
   "version": "3.6.1"
>>>>>>> upstream/master
  }
 },
 "nbformat": 4,
 "nbformat_minor": 2
}
